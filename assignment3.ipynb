{
 "cells": [
  {
   "cell_type": "markdown",
   "id": "adced45d-d117-4179-bfd1-1c3aba060e13",
   "metadata": {},
   "source": [
    "Q1. Which keyword is used to create a function? Create a function to return a list of odd numbers in the\n",
    "range of 1 to 25."
   ]
  },
  {
   "cell_type": "code",
   "execution_count": 42,
   "id": "4fef0447-7afe-42f2-a926-95d6410dd53a",
   "metadata": {},
   "outputs": [],
   "source": [
    "def get_odd_numbers():\n",
    "    odd_numbers = [num for num in range(1, 26) if num % 2 != 0]\n",
    "    return odd_numbers"
   ]
  },
  {
   "cell_type": "code",
   "execution_count": 51,
   "id": "51fb5c99-627b-4b78-a93d-827b7da1b4cc",
   "metadata": {},
   "outputs": [
    {
     "data": {
      "text/plain": [
       "[1, 3, 5, 7, 9, 11, 13, 15, 17, 19, 21, 23, 25]"
      ]
     },
     "execution_count": 51,
     "metadata": {},
     "output_type": "execute_result"
    }
   ],
   "source": [
    "get_odd_numbers()"
   ]
  },
  {
   "cell_type": "markdown",
   "id": "efde4bb3-ba1b-450d-8f23-76392ad1a859",
   "metadata": {},
   "source": [
    "Q2. Why *args and **kwargs is used in some functions? Create a function each for *args and **kwargs\n",
    "to demonstrate their use."
   ]
  },
  {
   "cell_type": "markdown",
   "id": "c9f8798b-74e6-4b91-a365-248b197e30e5",
   "metadata": {},
   "source": [
    "Ans:- *args (Arbitrary Arguments):\n",
    "The *args allows a function to accept a variable number of positional arguments. It is useful when you don't know in advance how many arguments will be passed to the function.\n",
    "\n",
    "**kwargs (Keyword Arguments):\n",
    "The **kwargs allows a function to accept a variable number of keyword arguments (i.e., arguments specified as key-value pairs). It is useful when you want to pass a dictionary of arbitrary key-value pairs to a function."
   ]
  },
  {
   "cell_type": "code",
   "execution_count": 53,
   "id": "d74f3fa2-963e-40e9-abef-e5eec5ed3058",
   "metadata": {},
   "outputs": [],
   "source": [
    "def test13(*args) :\n",
    "    return args "
   ]
  },
  {
   "cell_type": "code",
   "execution_count": 57,
   "id": "52cef662-770f-405f-9647-77283296a55e",
   "metadata": {},
   "outputs": [
    {
     "data": {
      "text/plain": [
       "(3, 5, 6, 2, 3)"
      ]
     },
     "execution_count": 57,
     "metadata": {},
     "output_type": "execute_result"
    }
   ],
   "source": [
    "test13(3,5,6,2,3)"
   ]
  },
  {
   "cell_type": "code",
   "execution_count": 3,
   "id": "44ab9756-1987-4350-831b-acfb21405342",
   "metadata": {},
   "outputs": [],
   "source": [
    "def test14(**kwargs):\n",
    "    return kwargs"
   ]
  },
  {
   "cell_type": "code",
   "execution_count": 7,
   "id": "c03b4fca-5688-4626-9e72-812f91092d06",
   "metadata": {},
   "outputs": [
    {
     "data": {
      "text/plain": [
       "{'a': [4, 2], 'b': 'shivam'}"
      ]
     },
     "execution_count": 7,
     "metadata": {},
     "output_type": "execute_result"
    }
   ],
   "source": [
    "test14(a=[4,2],b=\"shivam\")"
   ]
  },
  {
   "cell_type": "markdown",
   "id": "6ddd769f-537a-4371-bdc0-7936f183c111",
   "metadata": {},
   "source": [
    "Q3. What is an iterator in python? Name the method used to initialise the iterator object and the method\n",
    "used for iteration. Use these methods to print the first five elements of the given list [2, 4, 6, 8, 10, 12, 14,\n",
    "16, 18, 20]."
   ]
  },
  {
   "cell_type": "markdown",
   "id": "52e37d7c-2198-490a-b21e-0c4cb645e7a4",
   "metadata": {},
   "source": [
    "Ans:-In Python, an iterator is an object that allows you to iterate over a sequence of elements one at a time. It provides two essential methods: __iter__() and __next__(). The __iter__() method initializes the iterator object, and the __next__() method is used for iteration, which returns the next element in the sequence."
   ]
  },
  {
   "cell_type": "code",
   "execution_count": 17,
   "id": "ae07e99a-11a5-45a0-9ee9-bbcc56e22dab",
   "metadata": {},
   "outputs": [
    {
     "name": "stdout",
     "output_type": "stream",
     "text": [
      "2\n",
      "4\n",
      "6\n",
      "8\n",
      "10\n"
     ]
    }
   ],
   "source": [
    "list=[2, 4,6, 8, 10, 12, 14, 16, 18, 20]\n",
    "l=iter(list)\n",
    "for i in range(5):\n",
    "    element=next(l)\n",
    "    print(element)"
   ]
  },
  {
   "cell_type": "markdown",
   "id": "42b704bd-bf9f-4782-aa3e-30e6e0a18445",
   "metadata": {},
   "source": [
    "Q4. What is a generator function in python? Why yield keyword is used? Give an example of a generator\n",
    "function."
   ]
  },
  {
   "cell_type": "markdown",
   "id": "2a7f12ae-d792-4244-9c19-aeea2b399f39",
   "metadata": {},
   "source": [
    "Ans:- A generator function is a special type of function that returns an iterator, which can be used to generate a sequence of values lazily. \n",
    "The yield keyword is used to generate values one at a time and allows the function to remember its state between successive calls."
   ]
  },
  {
   "cell_type": "code",
   "execution_count": null,
   "id": "eee52589-0826-489c-b062-077d283d22a9",
   "metadata": {},
   "outputs": [],
   "source": [
    "def even_generator(l):\n",
    "    num = 0\n",
    "    while num < l:\n",
    "        yield num\n",
    "        num += 2\n",
    "        \n",
    "even_gen = even_generator(10)\n",
    "\n",
    "for i in range(5):\n",
    "    print(next(even_gen))\n"
   ]
  },
  {
   "cell_type": "markdown",
   "id": "59eb518d-a145-4620-a1df-66a8727d0056",
   "metadata": {},
   "source": [
    "Q5. Create a generator function for prime numbers less than 1000. Use the next() method to print the\n",
    "first 20 prime numbers."
   ]
  },
  {
   "cell_type": "code",
   "execution_count": 11,
   "id": "59ac2a0a-a3a2-496f-89ab-6ec887071fe7",
   "metadata": {},
   "outputs": [
    {
     "name": "stdout",
     "output_type": "stream",
     "text": [
      "2\n",
      "3\n",
      "5\n",
      "7\n",
      "11\n",
      "13\n",
      "17\n",
      "19\n",
      "23\n",
      "29\n",
      "31\n",
      "37\n",
      "41\n",
      "43\n",
      "47\n",
      "53\n",
      "59\n",
      "61\n",
      "67\n",
      "71\n"
     ]
    }
   ],
   "source": [
    "def is_prime(n):\n",
    "    if n < 2:\n",
    "        return False\n",
    "    for i in range(2, int(n ** 0.5) + 1):\n",
    "        if n % i == 0:\n",
    "            return False\n",
    "    return True\n",
    "\n",
    "def generate_primes():\n",
    "    num = 2\n",
    "    while num < 1000:\n",
    "        if is_prime(num):\n",
    "            yield num\n",
    "        num += 1\n",
    "\n",
    "# Using the generator with next() to print the first 20 prime numbers\n",
    "primes_generator = generate_primes()\n",
    "\n",
    "for _ in range(20):\n",
    "    print(next(primes_generator))"
   ]
  },
  {
   "cell_type": "markdown",
   "id": "122d4d80-057b-4116-bace-8c0949ae0ae7",
   "metadata": {},
   "source": [
    "Q6. Write a python program to print the first 10 Fibonacci numbers using a while loop."
   ]
  },
  {
   "cell_type": "code",
   "execution_count": 8,
   "id": "0d5ea28d-ecdc-456a-9a89-1fc64109c1c4",
   "metadata": {},
   "outputs": [
    {
     "name": "stdout",
     "output_type": "stream",
     "text": [
      "0\n",
      "1\n",
      "1\n",
      "2\n",
      "3\n",
      "5\n",
      "8\n",
      "13\n",
      "21\n",
      "34\n"
     ]
    }
   ],
   "source": [
    "def print_fibonacci(n):\n",
    "    a, b = 0, 1\n",
    "    count = 0\n",
    "\n",
    "    while count < n:\n",
    "        print(a)\n",
    "        a, b = b, a + b\n",
    "        count += 1\n",
    "print_fibonacci(10)"
   ]
  },
  {
   "cell_type": "markdown",
   "id": "8f71abc1-51ee-489a-973b-b11c013ec7d1",
   "metadata": {},
   "source": [
    "Q7. Write a List Comprehension to iterate through the given string: ‘pwskills’.\n",
    "Expected output: ['p', 'w', 's', 'k', 'i', 'l', 'l', 's']"
   ]
  },
  {
   "cell_type": "code",
   "execution_count": 12,
   "id": "cfed3c88-2a53-40d3-a330-875be347802c",
   "metadata": {},
   "outputs": [
    {
     "name": "stdout",
     "output_type": "stream",
     "text": [
      "['p', 'w', 's', 'k', 'i', 'l', 'l', 's']\n"
     ]
    }
   ],
   "source": [
    "string = 'pwskills'\n",
    "output_list = [char for char in string if char in 'pwskills']\n",
    "print(output_list)"
   ]
  },
  {
   "cell_type": "markdown",
   "id": "7ec8bac7-73d1-48bc-a31b-58a8edd1753d",
   "metadata": {},
   "source": [
    "Q8. Write a python program to check whether a given number is Palindrome or not using a while loop."
   ]
  },
  {
   "cell_type": "code",
   "execution_count": null,
   "id": "1c6265c7-e11b-4069-b8f2-243a36b86099",
   "metadata": {},
   "outputs": [],
   "source": [
    "def is_palindrome(num):\n",
    "    original_num = num\n",
    "    reverse_num = 0\n",
    "\n",
    "    while num > 0:\n",
    "        digit = num % 10\n",
    "        reverse_num = reverse_num * 10 + digit\n",
    "        num = num // 10\n",
    "\n",
    "    return original_num == reverse_num\n",
    "\n",
    "# Input number from the user\n",
    "num = int(input(\"Enter a number: \"))\n",
    "\n",
    "if is_palindrome(num):\n",
    "    print(f\"{num} is a palindrome.\")\n",
    "else:\n",
    "    print(f\"{num} is not a palindrome.\")\n"
   ]
  },
  {
   "cell_type": "markdown",
   "id": "fc5a9b4b-9d6c-48f0-b7e8-1bafac41faaa",
   "metadata": {},
   "source": [
    "Q9. Write a code to print odd numbers from 1 to 100 using list comprehension."
   ]
  },
  {
   "cell_type": "code",
   "execution_count": 1,
   "id": "54f60a42-7976-415e-8e32-ed83766bd009",
   "metadata": {},
   "outputs": [
    {
     "name": "stdout",
     "output_type": "stream",
     "text": [
      "[1, 3, 5, 7, 9, 11, 13, 15, 17, 19, 21, 23, 25, 27, 29, 31, 33, 35, 37, 39, 41, 43, 45, 47, 49, 51, 53, 55, 57, 59, 61, 63, 65, 67, 69, 71, 73, 75, 77, 79, 81, 83, 85, 87, 89, 91, 93, 95, 97, 99]\n"
     ]
    }
   ],
   "source": [
    "odd_numbers = [num for num in range(1, 101) if num % 2 != 0]\n",
    "print(odd_numbers)"
   ]
  }
 ],
 "metadata": {
  "kernelspec": {
   "display_name": "Python 3 (ipykernel)",
   "language": "python",
   "name": "python3"
  },
  "language_info": {
   "codemirror_mode": {
    "name": "ipython",
    "version": 3
   },
   "file_extension": ".py",
   "mimetype": "text/x-python",
   "name": "python",
   "nbconvert_exporter": "python",
   "pygments_lexer": "ipython3",
   "version": "3.10.8"
  }
 },
 "nbformat": 4,
 "nbformat_minor": 5
}
